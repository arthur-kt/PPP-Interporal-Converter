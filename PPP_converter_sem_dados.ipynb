{
  "nbformat": 4,
  "nbformat_minor": 0,
  "metadata": {
    "colab": {
      "provenance": [],
      "collapsed_sections": [
        "yWFhWA00h-AD",
        "M9nLHIZsiLeU"
      ],
      "authorship_tag": "ABX9TyPuknnwXTG+RRu6bLXr4C8e",
      "include_colab_link": true
    },
    "kernelspec": {
      "name": "python3",
      "display_name": "Python 3"
    },
    "language_info": {
      "name": "python"
    }
  },
  "cells": [
    {
      "cell_type": "markdown",
      "metadata": {
        "id": "view-in-github",
        "colab_type": "text"
      },
      "source": [
        "<a href=\"https://colab.research.google.com/github/arthur-kt/PPP-Intertemporal-Converter/blob/main/PPP_converter_sem_dados.ipynb\" target=\"_parent\"><img src=\"https://colab.research.google.com/assets/colab-badge.svg\" alt=\"Open In Colab\"/></a>"
      ]
    },
    {
      "cell_type": "markdown",
      "source": [
        "# PPP Interporal Converter"
      ],
      "metadata": {
        "id": "9z3r47xeia8L"
      }
    },
    {
      "cell_type": "markdown",
      "source": [
        "## Parâmetros Iniciais"
      ],
      "metadata": {
        "id": "4UsnfM9diWFC"
      }
    },
    {
      "cell_type": "code",
      "execution_count": 2,
      "metadata": {
        "colab": {
          "base_uri": "https://localhost:8080/"
        },
        "id": "hUdaX_A4ATVD",
        "outputId": "448ad150-54c0-4d89-9d61-52626ce49822"
      },
      "outputs": [
        {
          "output_type": "stream",
          "name": "stdout",
          "text": [
            "Collecting fredapi\n",
            "  Downloading fredapi-0.5.2-py3-none-any.whl.metadata (5.0 kB)\n",
            "Requirement already satisfied: pandas in /usr/local/lib/python3.10/dist-packages (from fredapi) (2.2.2)\n",
            "Requirement already satisfied: numpy>=1.22.4 in /usr/local/lib/python3.10/dist-packages (from pandas->fredapi) (1.26.4)\n",
            "Requirement already satisfied: python-dateutil>=2.8.2 in /usr/local/lib/python3.10/dist-packages (from pandas->fredapi) (2.8.2)\n",
            "Requirement already satisfied: pytz>=2020.1 in /usr/local/lib/python3.10/dist-packages (from pandas->fredapi) (2024.2)\n",
            "Requirement already satisfied: tzdata>=2022.7 in /usr/local/lib/python3.10/dist-packages (from pandas->fredapi) (2024.2)\n",
            "Requirement already satisfied: six>=1.5 in /usr/local/lib/python3.10/dist-packages (from python-dateutil>=2.8.2->pandas->fredapi) (1.16.0)\n",
            "Downloading fredapi-0.5.2-py3-none-any.whl (11 kB)\n",
            "Installing collected packages: fredapi\n",
            "Successfully installed fredapi-0.5.2\n",
            "Collecting pycountry\n",
            "  Downloading pycountry-24.6.1-py3-none-any.whl.metadata (12 kB)\n",
            "Downloading pycountry-24.6.1-py3-none-any.whl (6.3 MB)\n",
            "\u001b[2K   \u001b[90m━━━━━━━━━━━━━━━━━━━━━━━━━━━━━━━━━━━━━━━━\u001b[0m \u001b[32m6.3/6.3 MB\u001b[0m \u001b[31m41.4 MB/s\u001b[0m eta \u001b[36m0:00:00\u001b[0m\n",
            "\u001b[?25hInstalling collected packages: pycountry\n",
            "Successfully installed pycountry-24.6.1\n"
          ]
        }
      ],
      "source": [
        "!pip install fredapi\n",
        "!pip install pycountry\n",
        "\n",
        "from fredapi import Fred\n",
        "import pycountry\n",
        "import pandas as pd\n",
        "from datetime import datetime\n",
        "import requests\n",
        "\n",
        "# Inicialize a chave do FRED\n",
        "fred = Fred(api_key='11cb1e53b57458acaddd29a16e0efe1b')\n",
        "\n",
        "# Chave API para taxa de câmbio\n",
        "exchangeratesapi = '5f749a0aa7b1501d0bec324f453a7336'\n",
        "\n",
        "# Obtenha o CPI dos EUA para ajustar pela inflação\n",
        "cpi_data = fred.get_series('CPIAUCSL')\n",
        "cpi_df = cpi_data.to_frame(name='CPI')\n",
        "cpi_df.index = pd.to_datetime(cpi_df.index)\n",
        "cpi_df_ano = cpi_df.resample('YE').mean()  # Média anual do CPI\n",
        "\n",
        "# CPI atual para trazer o valor a 2024\n",
        "cpi_atual = cpi_df_ano.loc['2024'].values[0]"
      ]
    },
    {
      "cell_type": "code",
      "source": [
        "# Importar dados PPP\n",
        "url = 'https://raw.githubusercontent.com/arthur-kt/PPP-Intertemporal-Converter/eabb3ca9caaca37dc9d9f1ae46ad03f7bc699954/ppp_att.csv'\n",
        "ppp_data =  pd.read_csv(url, delimiter=',')"
      ],
      "metadata": {
        "id": "c6_YSokY-Up4"
      },
      "execution_count": null,
      "outputs": []
    },
    {
      "cell_type": "markdown",
      "source": [
        "## Insira seus dados:"
      ],
      "metadata": {
        "id": "yWFhWA00h-AD"
      }
    },
    {
      "cell_type": "code",
      "source": [
        "# Dados\n",
        "\n",
        "## Insira em 'País_Moeda' o o país emissor da moeda utilizada (no caso de uso de moedas diferentes do país de origem), em 'País do Programa' o país de origem do Programa, em 'Ano' o ano da origem dos recursos, em 'Gasto_Local' a quantia dispendida, em 'Programa' o nome do Programa e em 'Descrição' uma breve descrição da função ou destinação dos valores.\n",
        "## A coluna 'Ano2' serve para os programas que tem custos entre 2 diferentes anos, sendo necessário calcular a média do PPP e da inflação americana. Então, insira no 'Ano2' o último ano do programa, senão preencha com 0.\n",
        "\n",
        "dados = {\n",
        "    'País_Moeda': [\n",
        "             ],  # Usando códigos ISO2 dos países\n",
        "\n",
        "        'País do Programa': [\n",
        "             ],  # Usando códigos ISO2 dos países\n",
        "\n",
        "    'Ano': [\n",
        "            ],\n",
        "\n",
        "   'Ano2': [\n",
        "            ],\n",
        "\n",
        "    'Gasto_Local': [\n",
        "                    ],  # Gasto em moeda local\n",
        "\n",
        "    'Programa': [\n",
        "                 ],  # Nomes dos programas\n",
        "\n",
        "    'Descrição': [\n",
        "                  ]  # Descrições dos programas\n",
        "}\n",
        "\n",
        "#Check se todos dados estão com o mesmo número de entradas\n",
        "print(len(dados['Programa']),\n",
        "len(dados['Descrição']),\n",
        "len(dados['País_Moeda']),\n",
        "len(dados['País do Programa']),\n",
        "len(dados['Ano']),\n",
        "len(dados['Ano2']),\n",
        "len(dados['Gasto_Local']))\n",
        "\n",
        "df = pd.DataFrame(dados)"
      ],
      "metadata": {
        "colab": {
          "base_uri": "https://localhost:8080/"
        },
        "id": "1ZJoGf_Vhaih",
        "outputId": "39662606-67db-4cb7-c6d0-b7bf51673c25"
      },
      "execution_count": 3,
      "outputs": [
        {
          "output_type": "stream",
          "name": "stdout",
          "text": [
            "0 0 0 0 0 0 0\n"
          ]
        }
      ]
    },
    {
      "cell_type": "markdown",
      "source": [
        "## Obter taxa de conversão do dólar 2024"
      ],
      "metadata": {
        "id": "s_dhAcGbna_K"
      }
    },
    {
      "cell_type": "code",
      "source": [
        "# Função para obter o código de moeda usando o código de país ISO2\n",
        "def get_currency_code(country_code):\n",
        "    try:\n",
        "        country = pycountry.countries.get(alpha_2=country_code)\n",
        "        currency = pycountry.currencies.get(numeric=country.numeric)\n",
        "        return currency.alpha_3 if currency else None\n",
        "    except AttributeError:\n",
        "        print(f\"Não foi possível encontrar a moeda para o código de país: {country_code}\")\n",
        "        return None\n",
        "\n",
        "# Função para buscar a taxa de câmbio média do ano de 2024\n",
        "def get_exchange_rate_2024(currency_code):\n",
        "    try:\n",
        "        url = f\"https://api.exchangerate-api.com/v4/latest/{currency_code}?access_key={exchangeratesapi}\"\n",
        "\n",
        "        response = requests.get(url)\n",
        "        data = response.json()\n",
        "        end_date = datetime.today().strftime('%Y-%m-%d')\n",
        "        exchange_rate = data['rates'].get('USD')  # Taxa de câmbio para USD\n",
        "        return exchange_rate\n",
        "    except Exception as e:\n",
        "        print(f\"Erro ao obter taxa de câmbio para {currency_code}: {e}\")\n",
        "        return None"
      ],
      "metadata": {
        "id": "4zc3p0D2naQN"
      },
      "execution_count": 5,
      "outputs": []
    },
    {
      "cell_type": "markdown",
      "source": [
        "## Função Conversão"
      ],
      "metadata": {
        "id": "vwwOeyI3iHpS"
      }
    },
    {
      "cell_type": "code",
      "source": [
        "# Função para obter o PPP ajustado de um país em um ano específico a partir do CSV\n",
        "def get_ppp_adjusted(country_code, year):\n",
        "    ppp_row = ppp_data[(ppp_data['Country ID'] == country_code) & (ppp_data['Year'] == year)]\n",
        "    return ppp_row.iloc[0]['PPP']\n",
        "\n",
        "# Função para converter gasto local em dólar ajustado pela inflação dos EUA\n",
        "def converter_para_dolar_corrente(row):\n",
        "    # Para o ano 2023, usa os dados de PPP externos\n",
        "    if row['Ano2'] == 0:\n",
        "      if row['Ano'] == 2024:\n",
        "          currency_code = get_currency_code(row['País_Moeda'])\n",
        "          if currency_code:\n",
        "              exchange_rate = get_exchange_rate_2024(currency_code)\n",
        "              gasto_em_dolar_2024 = row['Gasto_Local'] * exchange_rate\n",
        "              return gasto_em_dolar_2024\n",
        "      else:\n",
        "          # Para demais anos\n",
        "           ppp_adjusted = get_ppp_adjusted(row['País_Moeda'], row['Ano'])\n",
        "           gasto_em_dolar_ppp = row['Gasto_Local'] / ppp_adjusted\n",
        "\n",
        "      # Ajuste pela inflação dos EUA\n",
        "      cpi_ano_referencia = cpi_df_ano.loc[str(row['Ano'])].values[0]\n",
        "      gasto_ajustado = gasto_em_dolar_ppp * (cpi_atual / cpi_ano_referencia)\n",
        "\n",
        "    else:\n",
        "      # Caso exista Ano2, calcula o PPP médio entre Ano1 e Ano2\n",
        "\n",
        "      ppp_ano1 = get_ppp_adjusted(row['País_Moeda'], row['Ano'])\n",
        "      ppp_ano2 = get_ppp_adjusted(row['País_Moeda'], row['Ano2'])\n",
        "\n",
        "      # Média dos gastos enre entre Ano1 e Ano2\n",
        "      gasto_em_dolar_ppp = row['Gasto_Local'] / ((ppp_ano1 + ppp_ano2) / 2)\n",
        "\n",
        "\n",
        "      # Ajuste pela inflação dos EUA usando CPI de Ano1 e Ano2\n",
        "\n",
        "      # Obter o índice CPI de ambos os anos\n",
        "      cpi_ano1 = cpi_df_ano.loc[str(row['Ano'])].values[0]\n",
        "      cpi_ano2 = cpi_df_ano.loc[str(row['Ano2'])].values[0]\n",
        "\n",
        "      # Calcula a média do CPI para ajuste pela inflação\n",
        "      cpi_media = (cpi_ano1 + cpi_ano2) / 2\n",
        "\n",
        "      # Ajusta o gasto usando a média do CPI\n",
        "      gasto_ajustado = gasto_em_dolar_ppp * (cpi_atual / cpi_media)\n",
        "\n",
        "    return float(gasto_ajustado)\n"
      ],
      "metadata": {
        "id": "45-Z2IfC3EhP"
      },
      "execution_count": 6,
      "outputs": []
    },
    {
      "cell_type": "markdown",
      "source": [
        "## Função Formatação"
      ],
      "metadata": {
        "id": "M9nLHIZsiLeU"
      }
    },
    {
      "cell_type": "code",
      "source": [
        "# Função para formatar valores em milhões, bilhões ou trilhões para Moeda Local\n",
        "def formatar_valor_moeda_local(valor, codigo_pais):\n",
        "    currency_code = get_currency_code(codigo_pais)  # Obtém o código da moeda do país\n",
        "    if not currency_code:\n",
        "        currency_code = \"Moeda desconhecida\"  # Se não houver código, exibe \"Moeda desconhecida\"\n",
        "\n",
        "    if valor >= 1_000_000_000_000:  # Trilhão\n",
        "        return f\"{currency_code} {valor / 1_000_000_000_000:.2f} trilhões\"\n",
        "    elif valor >= 1_000_000_000:  # Bilhão\n",
        "        return f\"{currency_code} {valor / 1_000_000_000:.2f} bilhões\"\n",
        "    elif valor >= 1_000_000:  # Milhão\n",
        "        return f\"{currency_code} {valor / 1_000_000:.2f} milhões\"\n",
        "    else:\n",
        "        return f\"{currency_code} {valor:.2f}\"\n",
        "\n",
        "# Função para formatar valores em milhões, bilhões ou trilhões para Dólar Ajustado\n",
        "def formatar_valor_dolar(valor):\n",
        "    if valor >= 1_000_000_000_000:  # Trilhão\n",
        "        return f\"USD {valor / 1_000_000_000_000:.2f} trilhões\"\n",
        "    elif valor >= 1_000_000_000:  # Bilhão\n",
        "        return f\"USD {valor / 1_000_000_000:.2f} bilhões\"\n",
        "    elif valor >= 1_000_000:  # Milhão\n",
        "        return f\"USD {valor / 1_000_000:.2f} milhões\"\n",
        "    else:\n",
        "        return f\"USD {valor:.2f}\""
      ],
      "metadata": {
        "id": "EMC4GVsh1L4a"
      },
      "execution_count": 7,
      "outputs": []
    },
    {
      "cell_type": "markdown",
      "source": [
        "## Conversor"
      ],
      "metadata": {
        "id": "qjPxxx-jiR7a"
      }
    },
    {
      "cell_type": "code",
      "source": [
        "# Aplicar a função para cada linha no DataFrame\n",
        "df['Gasto_Convertido_Dolar_2024'] = df.apply(converter_para_dolar_corrente, axis=1)\n",
        "\n",
        "# Aplicar as novas funções para as colunas 'Gasto_Local' e 'Gasto_Convertido_Dolar_2024'\n",
        "df['Gasto Local'] = df.apply(lambda row: formatar_valor_moeda_local(row['Gasto_Local'], row['País_Moeda']), axis=1)\n",
        "df['Gasto Convertido US$ 2024'] = df['Gasto_Convertido_Dolar_2024'].apply(formatar_valor_dolar)\n",
        "\n",
        "# Exibir o DataFrame com as colunas formatadas\n",
        "df[['País do Programa', 'Programa', 'Descrição', 'Ano', 'Ano2', 'Gasto Local', 'Gasto Convertido US$ 2024']]"
      ],
      "metadata": {
        "colab": {
          "base_uri": "https://localhost:8080/",
          "height": 375
        },
        "outputId": "f575f5f7-16cf-4b92-8610-8a8a5440f836",
        "id": "CzsEAjIt3EhP"
      },
      "execution_count": 8,
      "outputs": [
        {
          "output_type": "error",
          "ename": "ValueError",
          "evalue": "Cannot set a DataFrame with multiple columns to the single column Gasto_Convertido_Dolar_2024",
          "traceback": [
            "\u001b[0;31m---------------------------------------------------------------------------\u001b[0m",
            "\u001b[0;31mValueError\u001b[0m                                Traceback (most recent call last)",
            "\u001b[0;32m<ipython-input-8-56fad7f1cfa5>\u001b[0m in \u001b[0;36m<cell line: 2>\u001b[0;34m()\u001b[0m\n\u001b[1;32m      1\u001b[0m \u001b[0;31m# Aplicar a função para cada linha no DataFrame\u001b[0m\u001b[0;34m\u001b[0m\u001b[0;34m\u001b[0m\u001b[0m\n\u001b[0;32m----> 2\u001b[0;31m \u001b[0mdf\u001b[0m\u001b[0;34m[\u001b[0m\u001b[0;34m'Gasto_Convertido_Dolar_2024'\u001b[0m\u001b[0;34m]\u001b[0m \u001b[0;34m=\u001b[0m \u001b[0mdf\u001b[0m\u001b[0;34m.\u001b[0m\u001b[0mapply\u001b[0m\u001b[0;34m(\u001b[0m\u001b[0mconverter_para_dolar_corrente\u001b[0m\u001b[0;34m,\u001b[0m \u001b[0maxis\u001b[0m\u001b[0;34m=\u001b[0m\u001b[0;36m1\u001b[0m\u001b[0;34m)\u001b[0m\u001b[0;34m\u001b[0m\u001b[0;34m\u001b[0m\u001b[0m\n\u001b[0m\u001b[1;32m      3\u001b[0m \u001b[0;34m\u001b[0m\u001b[0m\n\u001b[1;32m      4\u001b[0m \u001b[0;31m# Aplicar as novas funções para as colunas 'Gasto_Local' e 'Gasto_Convertido_Dolar_2024'\u001b[0m\u001b[0;34m\u001b[0m\u001b[0;34m\u001b[0m\u001b[0m\n\u001b[1;32m      5\u001b[0m \u001b[0mdf\u001b[0m\u001b[0;34m[\u001b[0m\u001b[0;34m'Gasto Local'\u001b[0m\u001b[0;34m]\u001b[0m \u001b[0;34m=\u001b[0m \u001b[0mdf\u001b[0m\u001b[0;34m.\u001b[0m\u001b[0mapply\u001b[0m\u001b[0;34m(\u001b[0m\u001b[0;32mlambda\u001b[0m \u001b[0mrow\u001b[0m\u001b[0;34m:\u001b[0m \u001b[0mformatar_valor_moeda_local\u001b[0m\u001b[0;34m(\u001b[0m\u001b[0mrow\u001b[0m\u001b[0;34m[\u001b[0m\u001b[0;34m'Gasto_Local'\u001b[0m\u001b[0;34m]\u001b[0m\u001b[0;34m,\u001b[0m \u001b[0mrow\u001b[0m\u001b[0;34m[\u001b[0m\u001b[0;34m'País_Moeda'\u001b[0m\u001b[0;34m]\u001b[0m\u001b[0;34m)\u001b[0m\u001b[0;34m,\u001b[0m \u001b[0maxis\u001b[0m\u001b[0;34m=\u001b[0m\u001b[0;36m1\u001b[0m\u001b[0;34m)\u001b[0m\u001b[0;34m\u001b[0m\u001b[0;34m\u001b[0m\u001b[0m\n",
            "\u001b[0;32m/usr/local/lib/python3.10/dist-packages/pandas/core/frame.py\u001b[0m in \u001b[0;36m__setitem__\u001b[0;34m(self, key, value)\u001b[0m\n\u001b[1;32m   4299\u001b[0m             \u001b[0mself\u001b[0m\u001b[0;34m.\u001b[0m\u001b[0m_setitem_array\u001b[0m\u001b[0;34m(\u001b[0m\u001b[0mkey\u001b[0m\u001b[0;34m,\u001b[0m \u001b[0mvalue\u001b[0m\u001b[0;34m)\u001b[0m\u001b[0;34m\u001b[0m\u001b[0;34m\u001b[0m\u001b[0m\n\u001b[1;32m   4300\u001b[0m         \u001b[0;32melif\u001b[0m \u001b[0misinstance\u001b[0m\u001b[0;34m(\u001b[0m\u001b[0mvalue\u001b[0m\u001b[0;34m,\u001b[0m \u001b[0mDataFrame\u001b[0m\u001b[0;34m)\u001b[0m\u001b[0;34m:\u001b[0m\u001b[0;34m\u001b[0m\u001b[0;34m\u001b[0m\u001b[0m\n\u001b[0;32m-> 4301\u001b[0;31m             \u001b[0mself\u001b[0m\u001b[0;34m.\u001b[0m\u001b[0m_set_item_frame_value\u001b[0m\u001b[0;34m(\u001b[0m\u001b[0mkey\u001b[0m\u001b[0;34m,\u001b[0m \u001b[0mvalue\u001b[0m\u001b[0;34m)\u001b[0m\u001b[0;34m\u001b[0m\u001b[0;34m\u001b[0m\u001b[0m\n\u001b[0m\u001b[1;32m   4302\u001b[0m         elif (\n\u001b[1;32m   4303\u001b[0m             \u001b[0mis_list_like\u001b[0m\u001b[0;34m(\u001b[0m\u001b[0mvalue\u001b[0m\u001b[0;34m)\u001b[0m\u001b[0;34m\u001b[0m\u001b[0;34m\u001b[0m\u001b[0m\n",
            "\u001b[0;32m/usr/local/lib/python3.10/dist-packages/pandas/core/frame.py\u001b[0m in \u001b[0;36m_set_item_frame_value\u001b[0;34m(self, key, value)\u001b[0m\n\u001b[1;32m   4457\u001b[0m \u001b[0;34m\u001b[0m\u001b[0m\n\u001b[1;32m   4458\u001b[0m         \u001b[0;32mif\u001b[0m \u001b[0mlen\u001b[0m\u001b[0;34m(\u001b[0m\u001b[0mvalue\u001b[0m\u001b[0;34m.\u001b[0m\u001b[0mcolumns\u001b[0m\u001b[0;34m)\u001b[0m \u001b[0;34m>\u001b[0m \u001b[0;36m1\u001b[0m\u001b[0;34m:\u001b[0m\u001b[0;34m\u001b[0m\u001b[0;34m\u001b[0m\u001b[0m\n\u001b[0;32m-> 4459\u001b[0;31m             raise ValueError(\n\u001b[0m\u001b[1;32m   4460\u001b[0m                 \u001b[0;34m\"Cannot set a DataFrame with multiple columns to the single \"\u001b[0m\u001b[0;34m\u001b[0m\u001b[0;34m\u001b[0m\u001b[0m\n\u001b[1;32m   4461\u001b[0m                 \u001b[0;34mf\"column {key}\"\u001b[0m\u001b[0;34m\u001b[0m\u001b[0;34m\u001b[0m\u001b[0m\n",
            "\u001b[0;31mValueError\u001b[0m: Cannot set a DataFrame with multiple columns to the single column Gasto_Convertido_Dolar_2024"
          ]
        }
      ]
    }
  ]
}