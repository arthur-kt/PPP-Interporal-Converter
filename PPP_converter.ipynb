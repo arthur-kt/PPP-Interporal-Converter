{
  "nbformat": 4,
  "nbformat_minor": 0,
  "metadata": {
    "colab": {
      "provenance": [],
      "authorship_tag": "ABX9TyNQXTXAamYKUxEEJs6PoX8N",
      "include_colab_link": true
    },
    "kernelspec": {
      "name": "python3",
      "display_name": "Python 3"
    },
    "language_info": {
      "name": "python"
    }
  },
  "cells": [
    {
      "cell_type": "markdown",
      "metadata": {
        "id": "view-in-github",
        "colab_type": "text"
      },
      "source": [
        "<a href=\"https://colab.research.google.com/github/arthur-kt/PPP-Interporal-Converter/blob/main/PPP_converter.ipynb\" target=\"_parent\"><img src=\"https://colab.research.google.com/assets/colab-badge.svg\" alt=\"Open In Colab\"/></a>"
      ]
    },
    {
      "cell_type": "code",
      "execution_count": 7,
      "metadata": {
        "colab": {
          "base_uri": "https://localhost:8080/"
        },
        "id": "hUdaX_A4ATVD",
        "outputId": "f7b42ec0-8a04-4115-e098-421e2381beca"
      },
      "outputs": [
        {
          "output_type": "stream",
          "name": "stdout",
          "text": [
            "Requirement already satisfied: fredapi in /usr/local/lib/python3.10/dist-packages (0.5.2)\n",
            "Requirement already satisfied: pandas in /usr/local/lib/python3.10/dist-packages (from fredapi) (2.2.2)\n",
            "Requirement already satisfied: numpy>=1.22.4 in /usr/local/lib/python3.10/dist-packages (from pandas->fredapi) (1.26.4)\n",
            "Requirement already satisfied: python-dateutil>=2.8.2 in /usr/local/lib/python3.10/dist-packages (from pandas->fredapi) (2.8.2)\n",
            "Requirement already satisfied: pytz>=2020.1 in /usr/local/lib/python3.10/dist-packages (from pandas->fredapi) (2024.2)\n",
            "Requirement already satisfied: tzdata>=2022.7 in /usr/local/lib/python3.10/dist-packages (from pandas->fredapi) (2024.2)\n",
            "Requirement already satisfied: six>=1.5 in /usr/local/lib/python3.10/dist-packages (from python-dateutil>=2.8.2->pandas->fredapi) (1.16.0)\n",
            "Requirement already satisfied: pppfy in /usr/local/lib/python3.10/dist-packages (2024.5.3)\n"
          ]
        }
      ],
      "source": [
        "!pip install fredapi  # Install fredapi module\n",
        "!pip install pppfy  # Install pppfy module\n",
        "\n",
        "\n",
        "from fredapi import Fred\n",
        "from pppfy.converter import Converter\n",
        "import pandas as pd\n",
        "\n",
        "# Inicialize o conversor do PPPfy e configure a chave do FRED\n",
        "c = Converter()\n",
        "fred = Fred(api_key='11cb1e53b57458acaddd29a16e0efe1b')\n"
      ]
    },
    {
      "cell_type": "code",
      "source": [
        "\n",
        "# Obtenha o CPI dos EUA para ajustar pela inflação\n",
        "cpi_data = fred.get_series('CPIAUCSL')\n",
        "cpi_df = cpi_data.to_frame(name='CPI')\n",
        "cpi_df.index = pd.to_datetime(cpi_df.index)\n",
        "cpi_df_ano = cpi_df.resample('Y').mean()  # Média anual do CPI\n",
        "\n",
        "# CPI atual para trazer o valor a 2024\n",
        "cpi_atual = cpi_df_ano.loc['2024'].values[0]\n",
        "\n",
        "# Dados de exemplo\n",
        "dados = {\n",
        "    'País': ['US', 'US', 'US', 'US','US','GB', 'GB', 'GB', 'GB', 'GB', 'GB', 'GB', 'GB', 'GB', 'GB', 'CN', 'US', 'CN', 'CN', 'CN', 'CN', 'US', 'CN'],  # Usando códigos ISO2 dos países\n",
        "    'Ano': [2021, 2021, 2021, 2021, 2022, 2021, 2021, 2017, 2017, 2019, 2017, 2019, 2021, 2022, 2022, 2016, 2019, 2016, 2019, 2009, 2020, 2020, 2021],\n",
        "    'Gasto_Local': [4.46, 2.65, 6.5, 2.5, 2.105, 17, 7.6, 5, 80, 4, 3, 948.1, 560, 650, 520, 16, 291, 5.64, 1861.695, 15, 74, 3.8, 1.147]  # Gasto em moeda local\n",
        "}\n",
        "\n",
        "df = pd.DataFrame(dados)\n"
      ],
      "metadata": {
        "colab": {
          "base_uri": "https://localhost:8080/"
        },
        "id": "uTwK4Oq1hJte",
        "outputId": "1f295682-bb10-438e-efc9-e198b32d2b9c"
      },
      "execution_count": 12,
      "outputs": [
        {
          "output_type": "stream",
          "name": "stderr",
          "text": [
            "<ipython-input-12-6f5bfeae5433>:5: FutureWarning: 'Y' is deprecated and will be removed in a future version, please use 'YE' instead.\n",
            "  cpi_df_ano = cpi_df.resample('Y').mean()  # Média anual do CPI\n"
          ]
        }
      ]
    },
    {
      "cell_type": "code",
      "source": [
        "# Função para converter gasto local em dólar PPP e ajustar pela inflação dos EUA\n",
        "def converter_para_dolar_corrente(row):\n",
        "    # Converta o gasto local para dólares ajustados pelo PPP usando pppfy\n",
        "    ppp_adjusted = c.get_price_mapping(\n",
        "        source_country=row['País'],\n",
        "        source_price=row['Gasto_Local'],\n",
        "        destination_country=\"US\",\n",
        "        year=row['Ano']\n",
        "    )\n",
        "    gasto_em_dolar_ppp = ppp_adjusted[\"ppp_adjusted_local_price\"]\n",
        "\n",
        "    # Ajuste pela inflação dos EUA\n",
        "    cpi_ano_referencia = cpi_df_ano.loc[str(row['Ano'])].values[0]\n",
        "    gasto_ajustado = gasto_em_dolar_ppp * (cpi_atual / cpi_ano_referencia)\n",
        "\n",
        "    return gasto_ajustado"
      ],
      "metadata": {
        "id": "7jI0vSU4hyjw"
      },
      "execution_count": 14,
      "outputs": []
    },
    {
      "cell_type": "code",
      "source": [
        "# Aplicar a função para cada linha no DataFrame\n",
        "df['Gasto_Ajustado_Dolar'] = df.apply(converter_para_dolar_corrente, axis=1)\n",
        "\n",
        "# Resultado final\n",
        "print(df[['País', 'Ano', 'Gasto_Local', 'Gasto_Ajustado_Dolar']])"
      ],
      "metadata": {
        "colab": {
          "base_uri": "https://localhost:8080/"
        },
        "id": "a-1eVe5th0JW",
        "outputId": "0f7628e8-2eb0-4c49-c9b0-baa3ad71216d"
      },
      "execution_count": 13,
      "outputs": [
        {
          "output_type": "stream",
          "name": "stdout",
          "text": [
            "   País   Ano  Gasto_Local  Gasto_Ajustado_Dolar\n",
            "0    US  2021        4.460   [5.147827313201644]\n",
            "1    US  2021        2.650  [3.0586866322834876]\n",
            "2    US  2021        6.500   [7.502438909374592]\n",
            "3    US  2021        2.500  [2.8855534266825353]\n",
            "4    US  2022        2.105   [2.249836057139217]\n",
            "5    GB  2021       17.000  [28.998051159435406]\n",
            "6    GB  2021        7.600  [12.963834635982886]\n",
            "7    GB  2017        5.000   [9.318705775840671]\n",
            "8    GB  2017       80.000  [149.09929241345074]\n",
            "9    GB  2019        4.000   [7.201877338434628]\n",
            "10   GB  2017        3.000   [5.591223465504402]\n",
            "11   GB  2019      948.100   [1707.024976142468]\n",
            "12   GB  2021      560.000   [955.2299205461075]\n",
            "13   GB  2022      650.000  [1019.7629731778202]\n",
            "14   GB  2022      520.000   [815.8103785422561]\n",
            "15   CN  2016       16.000   [5.227045344030632]\n",
            "16   US  2019      291.000   [355.9970898005789]\n",
            "17   CN  2016        5.640  [1.8425334837707976]\n",
            "18   CN  2019     1861.695   [541.2990353195443]\n",
            "19   CN  2009       15.000   [6.936718549439012]\n",
            "20   CN  2020       74.000  [21.422283775510692]\n",
            "21   US  2020        3.800   [4.591403946273537]\n",
            "22   CN  2021        1.147   [0.317013169089214]\n"
          ]
        }
      ]
    },
    {
      "cell_type": "code",
      "source": [],
      "metadata": {
        "id": "7EAC0LURh9dw"
      },
      "execution_count": null,
      "outputs": []
    }
  ]
}