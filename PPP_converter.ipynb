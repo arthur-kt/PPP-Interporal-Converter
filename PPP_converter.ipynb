{
  "nbformat": 4,
  "nbformat_minor": 0,
  "metadata": {
    "colab": {
      "provenance": [],
      "collapsed_sections": [
        "8GmflvuZh3VC"
      ],
      "authorship_tag": "ABX9TyPKp+O13lMEPwHhNvU2CcxE",
      "include_colab_link": true
    },
    "kernelspec": {
      "name": "python3",
      "display_name": "Python 3"
    },
    "language_info": {
      "name": "python"
    }
  },
  "cells": [
    {
      "cell_type": "markdown",
      "metadata": {
        "id": "view-in-github",
        "colab_type": "text"
      },
      "source": [
        "<a href=\"https://colab.research.google.com/github/arthur-kt/PPP-Interporal-Converter/blob/main/PPP_converter.ipynb\" target=\"_parent\"><img src=\"https://colab.research.google.com/assets/colab-badge.svg\" alt=\"Open In Colab\"/></a>"
      ]
    },
    {
      "cell_type": "markdown",
      "source": [
        "# PPP Interporal Converter"
      ],
      "metadata": {
        "id": "9z3r47xeia8L"
      }
    },
    {
      "cell_type": "markdown",
      "source": [
        "## Parâmetros Iniciais"
      ],
      "metadata": {
        "id": "4UsnfM9diWFC"
      }
    },
    {
      "cell_type": "code",
      "execution_count": 19,
      "metadata": {
        "colab": {
          "base_uri": "https://localhost:8080/"
        },
        "id": "hUdaX_A4ATVD",
        "outputId": "e8366525-6b1b-4c80-a0db-9391b4832408"
      },
      "outputs": [
        {
          "output_type": "stream",
          "name": "stdout",
          "text": [
            "Requirement already satisfied: fredapi in /usr/local/lib/python3.10/dist-packages (0.5.2)\n",
            "Requirement already satisfied: pandas in /usr/local/lib/python3.10/dist-packages (from fredapi) (2.2.2)\n",
            "Requirement already satisfied: numpy>=1.22.4 in /usr/local/lib/python3.10/dist-packages (from pandas->fredapi) (1.26.4)\n",
            "Requirement already satisfied: python-dateutil>=2.8.2 in /usr/local/lib/python3.10/dist-packages (from pandas->fredapi) (2.8.2)\n",
            "Requirement already satisfied: pytz>=2020.1 in /usr/local/lib/python3.10/dist-packages (from pandas->fredapi) (2024.2)\n",
            "Requirement already satisfied: tzdata>=2022.7 in /usr/local/lib/python3.10/dist-packages (from pandas->fredapi) (2024.2)\n",
            "Requirement already satisfied: six>=1.5 in /usr/local/lib/python3.10/dist-packages (from python-dateutil>=2.8.2->pandas->fredapi) (1.16.0)\n",
            "Requirement already satisfied: pppfy in /usr/local/lib/python3.10/dist-packages (2024.5.3)\n",
            "Collecting pycountry\n",
            "  Downloading pycountry-24.6.1-py3-none-any.whl.metadata (12 kB)\n",
            "Downloading pycountry-24.6.1-py3-none-any.whl (6.3 MB)\n",
            "\u001b[2K   \u001b[90m━━━━━━━━━━━━━━━━━━━━━━━━━━━━━━━━━━━━━━━━\u001b[0m \u001b[32m6.3/6.3 MB\u001b[0m \u001b[31m44.9 MB/s\u001b[0m eta \u001b[36m0:00:00\u001b[0m\n",
            "\u001b[?25hInstalling collected packages: pycountry\n",
            "Successfully installed pycountry-24.6.1\n"
          ]
        },
        {
          "output_type": "stream",
          "name": "stderr",
          "text": [
            "<ipython-input-19-1e152e07028a>:20: FutureWarning: 'Y' is deprecated and will be removed in a future version, please use 'YE' instead.\n",
            "  cpi_df_ano = cpi_df.resample('Y').mean()  # Média anual do CPI\n"
          ]
        }
      ],
      "source": [
        "!pip install fredapi\n",
        "!pip install pppfy\n",
        "!pip install pycountry\n",
        "\n",
        "from fredapi import Fred\n",
        "from pppfy.converter import Converter\n",
        "import pycountry\n",
        "import pandas as pd\n",
        "from datetime import datetime\n",
        "import requests\n",
        "\n",
        "# Inicialize o conversor do PPPfy e configure a chave do FRED\n",
        "c = Converter()\n",
        "fred = Fred(api_key='11cb1e53b57458acaddd29a16e0efe1b')\n",
        "\n",
        "# Obtenha o CPI dos EUA para ajustar pela inflação\n",
        "cpi_data = fred.get_series('CPIAUCSL')\n",
        "cpi_df = cpi_data.to_frame(name='CPI')\n",
        "cpi_df.index = pd.to_datetime(cpi_df.index)\n",
        "cpi_df_ano = cpi_df.resample('Y').mean()  # Média anual do CPI\n",
        "\n",
        "# CPI atual para trazer o valor a 2024\n",
        "cpi_atual = cpi_df_ano.loc['2024'].values[0]"
      ]
    },
    {
      "cell_type": "markdown",
      "source": [
        "## Country 2023 PPP"
      ],
      "metadata": {
        "id": "8GmflvuZh3VC"
      }
    },
    {
      "cell_type": "code",
      "source": [
        "# Dados externos de PPP para 2022 e 2023\n",
        "ppp_dados_externos = {\n",
        "  'AD': {2023: 0.601311820072143},\n",
        "  'AE': {2023: 2.31884546890079},\n",
        "  'AG': {2023: 1.83044748608644},\n",
        "  'AL': {2023: 39.3625610746},\n",
        "  'AM': {2023: 148.376614712426},\n",
        "  'AM': {2023: 148.376614712426},\n",
        "  'AO': {2023: 209.922137539756},\n",
        "  'AR': {2023: 138.535504351528},\n",
        "  'AT': {2023: 0.708583},\n",
        "  'AU': {2023: 1.391128},\n",
        "  'AZ': {2023: 0.513547203253494},\n",
        "  'BA': {2023: 0.66728664015},\n",
        "  'BB': {2023: 2.34255483499186},\n",
        "  'BD': {2023: 28.6414527647285},\n",
        "  'BE': {2023: 0.701943},\n",
        "  'BF': {2023: 194.43591626971},\n",
        "  'BG': {2023: 0.73855396687},\n",
        "  'BH': {2023: 0.171277544238009},\n",
        "  'BI': {2023: 724.166952175717},\n",
        "  'BJ': {2023: 204.868568650122},\n",
        "  'BN': {2023: 0.519406037460836},\n",
        "  'BO': {2023: 2.38405548204567},\n",
        "  'BR': {2023: 2.43687587390419},\n",
        "  'BS': {2023: 0.977354359953442},\n",
        "  'BW': {2023: 5.08539302521326},\n",
        "  'BY': {2023: 0.765644162330282},\n",
        "  'BZ': {2023: 1.12538351296439},\n",
        "  'CA': {2023: 1.169928},\n",
        "  'CD': {2023: 949.600728138881},\n",
        "  'CF': {2023: 238.889655747751},\n",
        "  'CG': {2023: 219.499486949798},\n",
        "  'CH': {2023: 0.966273},\n",
        "  'CI': {2023: 212.455422789034},\n",
        "  'CL': {2023: 431.415905},\n",
        "  'CM': {2023: 188.690484605277},\n",
        "  'CN': {2023: 3.63870415348481},\n",
        "  'CO': {2023: 1401.241791},\n",
        "  'CR': {2023: 323.002654},\n",
        "  'CV': {2023: 48.4973794995055},\n",
        "  'CY': {2023: 0.562049096539},\n",
        "  'CZ': {2023: 12.55055},\n",
        "  'DE': {2023: 0.703527},\n",
        "  'DJ': {2023: 88.9688656185565},\n",
        "  'DK': {2023: 6.106244},\n",
        "  'DM': {2023: 1.37371497415892},\n",
        "  'DO': {2023: 23.4976010939251},\n",
        "  'DZ': {2023: 41.966491662277},\n",
        "  'EC': {2023: 0.411672575202021},\n",
        "  'EE': {2023: 0.562992},\n",
        "  'EG': {2023: 4.78817690627537},\n",
        "  'ES': {2023: 0.572592},\n",
        "  'ET': {2023: 22.171172211744},\n",
        "  'FI': {2023: 0.764142},\n",
        "  'FJ': {2023: 0.877554298905316},\n",
        "  'FM': {2023: 0.946808218876195},\n",
        "  'FR': {2023: 0.672356},\n",
        "  'GA': {2023: 232.714326775648},\n",
        "  'GB': {2023: 0.667418},\n",
        "  'GD': {2023: 1.60029951889601},\n",
        "  'GE': {2023: 0.864621897098242},\n",
        "  'GH': {2023: 3.30353646845364},\n",
        "  'GM': {2023: 16.3016525087778},\n",
        "  'GN': {2023: 3339.63879870911},\n",
        "  'GQ': {2023: 228.929537109749},\n",
        "  'GR': {2023: 0.516235},\n",
        "  'GT': {2023: 3.22796367830501},\n",
        "  'GT': {2023: 3.22796367830501},\n",
        "  'GW': {2023: 210.840293617353},\n",
        "  'GY': {2023: 77.8205942538508},\n",
        "  'HK': {2023: 5.55294423577267},\n",
        "  'HN': {2023: 11.0790007804808},\n",
        "  'HR': {2023: 0.432290262501},\n",
        "  'HT': {2023: 73.3113538690668},\n",
        "  'HU': {2023: 170.212279},\n",
        "  'ID': {2023: 4821.59457441777},\n",
        "  'IE': {2023: 0.751366},\n",
        "  'IL': {2023: 3.586914},\n",
        "  'IN': {2023: 20.2166267502145},\n",
        "  'IQ': {2023: 519.239819509762},\n",
        "  'IR': {2023: 91081.211147176},\n",
        "  'IS': {2023: 140.155004},\n",
        "  'IT': {2023: 0.604018},\n",
        "  'JM': {2023: 92.3501422303604},\n",
        "  'JO': {2023: 0.304468780401446},\n",
        "  'JP': {2023: 94.677395},\n",
        "  'JP': {2023: 94.677395},\n",
        "  'KE': {2023: 43.1224591723171},\n",
        "  'KG': {2023: 24.3658326983705},\n",
        "  'KH': {2023: 1370.47995628293},\n",
        "  'KI': {2023: 0.893225826763546},\n",
        "  'KM': {2023: 187.337048545402},\n",
        "  'KN': {2023: 1.82301713051001},\n",
        "  'KR': {2023: 800.348017},\n",
        "  'KW': {2023: 0.204475956836398},\n",
        "  'KZ': {2023: 152.354214889111},\n",
        "  'LA': {2023: 3936.35447275292},\n",
        "  'LC': {2023: 1.50211728050232},\n",
        "  'LK': {2023: 86.7353177891082},\n",
        "  'LR': {2023: 0.439516464456266},\n",
        "  'LS': {2023: 5.79823538516503},\n",
        "  'LT': {2023: 0.483176},\n",
        "  'LU': {2023: 0.82753},\n",
        "  'LV': {2023: 0.5045},\n",
        "  'LY': {2023: 1.7961438286171},\n",
        "  'MA': {2023: 3.81892783199548},\n",
        "  'MD': {2023: 6.94888047523769},\n",
        "  'ME': {2023: 0.355971914047},\n",
        "  'MG': {2023: 1248.82974959173},\n",
        "  'MH': {2023: 0.902709949689365},\n",
        "  'MK': {2023: 18.6516828695},\n",
        "  'ML': {2023: 199.69700312756},\n",
        "  'MM': {2023: 422.318062837737},\n",
        "  'MN': {2023: 1103.340170893},\n",
        "  'MO': {2023: 4.76146075882428},\n",
        "  'MR': {2023: 11.3448806661197},\n",
        "  'MT': {2023: 0.561048150939},\n",
        "  'MU': {2023: 17.5198752901718},\n",
        "  'MV': {2023: 7.85656491962535},\n",
        "  'MW': {2023: 418.309235434928},\n",
        "  'MX': {2023: 9.65993},\n",
        "  'MY': {2023: 1.42626807760626},\n",
        "  'MZ': {2023: 23.4570282308295},\n",
        "  'NA': {2023: 6.85819521829883},\n",
        "  'NE': {2023: 206.364660706062},\n",
        "  'NG': {2023: 165.785284949663},\n",
        "  'NI': {2023: 11.4631845494296},\n",
        "  'NI': {2023: 11.4631845494296},\n",
        "  'NL': {2023: 0.739454},\n",
        "  'NO': {2023: 8.894996},\n",
        "  'NP': {2023: 33.4071598443357},\n",
        "  'NR': {2023: 1.41419412769361},\n",
        "  'NR': {2023: 1.41419412769361},\n",
        "  'NZ': {2023: 1.460444},\n",
        "  'OM': {2023: 0.201639189861095},\n",
        "  'PA': {2023: 0.470127945537058},\n",
        "  'PE': {2023: 1.74452671883385},\n",
        "  'PG': {2023: 2.33960072399207},\n",
        "  'PG': {2023: 2.33960072399207},\n",
        "  'PH': {2023: 19.2695632962606},\n",
        "  'PK': {2023: 56.2744628403118},\n",
        "  'PL': {2023: 1.879248},\n",
        "  'PR': {2023: 0.771056552808603},\n",
        "  'PS': {2023: 0.571905822259302},\n",
        "  'PT': {2023: 0.517344},\n",
        "  'PT': {2023: 0.517344},\n",
        "  'PW': {2023: 0.832744639508332},\n",
        "  'PY': {2023: 2612.61995392143},\n",
        "  'RO': {2023: 1.75887412014},\n",
        "  'RS': {2023: 44.9444593312},\n",
        "  'RU': {2023: 26.6801077041224},\n",
        "  'RW': {2023: 345.229437397842},\n",
        "  'SA': {2023: 1.97040765961378},\n",
        "  'SB': {2023: 6.08033727731148},\n",
        "  'SC': {2023: 7.6661137781464},\n",
        "  'SD': {2023: 514.307134863817},\n",
        "  'SE': {2023: 8.509281},\n",
        "  'SG': {2023: 0.804086116592075},\n",
        "  'SG': {2023: 0.804086116592075},\n",
        "  'SI': {2023: 0.541355},\n",
        "  'SK': {2023: 0.506852},\n",
        "  'SL': {2023: 4.99976356177989},\n",
        "  'SN': {2023: 219.128224654895},\n",
        "  'SO': {2023: 10867.5164798451},\n",
        "  'SR': {2023: 10.6044507958133},\n",
        "  'ST': {2023: 9.79520128561749},\n",
        "  'SV': {2023: 0.426094939009153},\n",
        "  'SV': {2023: 0.426094939009153},\n",
        "  'SX': {2023: 1.36985036088976},\n",
        "  'SZ': {2023: 5.96839720517122},\n",
        "  'TC': {2023: 1.2263883735119},\n",
        "  'TD': {2023: 221.579449198094},\n",
        "  'TD': {2023: 221.579449198094},\n",
        "  'TG': {2023: 194.731218631422},\n",
        "  'TH': {2023: 10.6559974609307},\n",
        "  'TJ': {2023: 2.53711704890444},\n",
        "  'TJ': {2023: 2.53711704890444},\n",
        "  'TL': {2023: 0.322713344756041},\n",
        "  'TM': {2023: 1.43591360484589},\n",
        "  'TM': {2023: 1.43591360484589},\n",
        "  'TN': {2023: 0.884587105183473},\n",
        "  'TR': {2023: 6.974967},\n",
        "  'TT': {2023: 3.91967295016779},\n",
        "  'TT': {2023: 3.91967295016779},\n",
        "  'TV': {2023: 1.42727299541079},\n",
        "  'TZ': {2023: 726.476102762249},\n",
        "  'UA': {2023: 10.5235219853264},\n",
        "  'UG': {2023: 1228.430688278},\n",
        "  'US': {2023: 1},\n",
        "  'UY': {2023: 25.7177624165063},\n",
        "  'UY': {2023: 25.7177624165063},\n",
        "  'UZ': {2023: 3012.05243343799},\n",
        "  'VC': {2023: 1.39641113345768},\n",
        "  'VN': {2023: 6805.03072394812},\n",
        "  'VU': {2023: 120.98165140284},\n",
        "  'WS': {2023: 1.69170325252631},\n",
        "  'XK': {2023: 0.365662394514768},\n",
        "  'ZA': {2023: 7.2801946616266},\n",
        "  'ZM': {2023: 6.70755666282946},\n",
        "  'ZW': {2023: 1921.54418925218},\n",
        "}\n"
      ],
      "metadata": {
        "id": "-UpJY-x-3EhO"
      },
      "execution_count": 5,
      "outputs": []
    },
    {
      "cell_type": "markdown",
      "source": [
        "## Insira seus dados:"
      ],
      "metadata": {
        "id": "yWFhWA00h-AD"
      }
    },
    {
      "cell_type": "code",
      "source": [
        "# Dados\n",
        "\n",
        "## Insira em 'País' o país de origem do Programa, em 'Ano' o ano da origem dos recursos, em 'Gasto_Local' a quantia dispendida, em 'Programa' o nome do Programa e em 'Descrição' uma breve descrição da função ou destinação dos valores.\n",
        "\n",
        "dados = {\n",
        "    'País': ['US', 'US', 'US', 'US','US','KR', 'KR', 'KR', 'KR', 'KR','GB','GB', 'GB', 'GB', 'GB','GB', 'US', 'GB', 'GB', 'GB', 'GB'],  # Usando códigos ISO2 dos países\n",
        "    'Ano': [2021, 2021, 2021, 2023, 2022, 2023, 2023, 2023, 2023, 2023, 2023, 2023, 2024, 2017, 2017, 2019, 2017, 2019, 2021, 2022, 2022],\n",
        "    'Gasto_Local': [4460000000, 2650000000, 6500000000, 2500000000, 2105000000, 780100000000,  49500000000, 1880000000000, 60400000000, 2100000000000, 1100000000, 17000000, 7600000, 5000000000, 80000000000, 4000000000, 3000000000, 948100000000,\n",
        "                    560000000, 650000000, 520000000],  # Gasto em moeda local\n",
        "    'Programa': ['EOs 14017 and 14001', 'EOs 14017 and 14001', 'ARPA-H', 'ARP A-H', 'Executive Order on Advancing Biotechnology and Biomanufacturing Innovation', 'Orçamento 2024', 'Korean ARPA-H', 'Korean ARPA-H', 'Boston-Korea',\n",
        "                 'First National Strategic Technology Nurture Plan', 'Medicines Manufacturing Industry Partnership (MMIP)', 'Life Sciences Innovative Manufacturing Fund (LSIMF)', 'Life Sciences Innovative Manufacturing Fund (LSIMF)',\n",
        "                 'The Life Sciences Industrial Strategy','The Life Sciences Industrial Strategy','The Life Sciences Industrial Strategy','The Life Sciences Industrial Strategy','The Life Sciences Industrial Strategy', 'UK Innovation Strategy',\n",
        "                 'Life Sciences 2030 Skills Strategy', 'Life Sciences 2030 Skills Strategy' ],  # Nomes dos programas\n",
        "    'Descrição': ['Valores gasto', 'Investimentos planejados', '2022-2024', '2024-2025', 'Objective to improve and expand domestic biomanufacturing production capacity and processes', 'Feito em 2023', 'Alocado', 'Entre 2024-2033',\n",
        "                  'Sem descrição', 'De 2023 a 2028', 'Follow the Green, High-Tech Road', 'Primeira fase', 'Segunda fase (2024)','-', 'Over the next 10 years', 'Atingir esse nível de gasto governamental em P&D em 2027', 'Gasto governamental em P&D em 2017',\n",
        "                  '-', '-', '-', 'Entre 2025-2030']  # Descrições dos programas\n",
        "}\n",
        "\n",
        "df = pd.DataFrame(dados)"
      ],
      "metadata": {
        "id": "1ZJoGf_Vhaih"
      },
      "execution_count": 16,
      "outputs": []
    },
    {
      "cell_type": "markdown",
      "source": [
        "## Obter taxa de conversão do dólar 2024"
      ],
      "metadata": {
        "id": "s_dhAcGbna_K"
      }
    },
    {
      "cell_type": "code",
      "source": [
        "# Função para obter o código de moeda usando o código de país ISO2\n",
        "def get_currency_code(country_code):\n",
        "    try:\n",
        "        country = pycountry.countries.get(alpha_2=country_code)\n",
        "        currency = pycountry.currencies.get(numeric=country.numeric)\n",
        "        return currency.alpha_3 if currency else None\n",
        "    except AttributeError:\n",
        "        print(f\"Não foi possível encontrar a moeda para o código de país: {country_code}\")\n",
        "        return None\n",
        "\n",
        "# Função para buscar a taxa de câmbio média do ano de 2024\n",
        "def get_exchange_rate_2024(currency_code):\n",
        "    try:\n",
        "        url = f\"https://api.exchangerate-api.com/v4/latest/{currency_code}?access_key=5f749a0aa7b1501d0bec324f453a7336\"\n",
        "\n",
        "        response = requests.get(url)\n",
        "        data = response.json()\n",
        "        end_date = datetime.today().strftime('%Y-%m-%d')\n",
        "        exchange_rate = data['rates'].get('USD')  # Taxa de câmbio para USD\n",
        "        return exchange_rate\n",
        "    except Exception as e:\n",
        "        print(f\"Erro ao obter taxa de câmbio para {currency_code}: {e}\")\n",
        "        return None"
      ],
      "metadata": {
        "id": "4zc3p0D2naQN"
      },
      "execution_count": 12,
      "outputs": []
    },
    {
      "cell_type": "markdown",
      "source": [
        "## Função Conversão"
      ],
      "metadata": {
        "id": "vwwOeyI3iHpS"
      }
    },
    {
      "cell_type": "code",
      "source": [
        "# Função para converter gasto local em dólar ajustado pela inflação dos EUA\n",
        "def converter_para_dolar_corrente(row):\n",
        "    # Para o ano 2023, usa os dados de PPP externos\n",
        "    if row['Ano'] == 2023:\n",
        "        ppp_adjusted = ppp_dados_externos[row['País']][row['Ano']]\n",
        "        gasto_em_dolar_ppp = row['Gasto_Local'] / ppp_adjusted\n",
        "    elif row['Ano'] == 2024:\n",
        "        currency_code = get_currency_code(row['País'])\n",
        "        if currency_code:\n",
        "            exchange_rate = get_exchange_rate_2024(currency_code)\n",
        "            if exchange_rate:\n",
        "                gasto_em_dolar_2024 = row['Gasto_Local'] / exchange_rate\n",
        "                return gasto_em_dolar_2024\n",
        "            else:\n",
        "                print(f\"Taxa de câmbio não disponível para {row['País']}.\")\n",
        "                return None\n",
        "    else:\n",
        "        # Para outros anos, usa a biblioteca pppfy\n",
        "        ppp_adjusted = c.get_price_mapping(\n",
        "            source_country=row['País'],\n",
        "            source_price=row['Gasto_Local'],\n",
        "            destination_country=\"US\",\n",
        "            year=row['Ano']\n",
        "        )\n",
        "        gasto_em_dolar_ppp = ppp_adjusted[\"ppp_adjusted_local_price\"]\n",
        "\n",
        "    # Ajuste pela inflação dos EUA\n",
        "    cpi_ano_referencia = cpi_df_ano.loc[str(row['Ano'])].values[0]\n",
        "    gasto_ajustado = gasto_em_dolar_ppp * (cpi_atual / cpi_ano_referencia)\n",
        "\n",
        "    return float(gasto_ajustado)\n"
      ],
      "metadata": {
        "id": "45-Z2IfC3EhP"
      },
      "execution_count": 13,
      "outputs": []
    },
    {
      "cell_type": "markdown",
      "source": [
        "## Função Formatação"
      ],
      "metadata": {
        "id": "M9nLHIZsiLeU"
      }
    },
    {
      "cell_type": "code",
      "source": [
        "# Função para formatar valores em milhões, bilhões ou trilhões\n",
        "def formatar_valor(valor):\n",
        "    if valor >= 1_000_000_000_000:  # Trilhão\n",
        "        return f\"{valor / 1_000_000_000_000:.2f} trilhões\"\n",
        "    elif valor >= 1_000_000_000:  # Bilhão\n",
        "        return f\"{valor / 1_000_000_000:.2f} bilhões\"\n",
        "    elif valor >= 1_000_000:  # Milhão\n",
        "        return f\"{valor / 1_000_000:.2f} milhões\"\n",
        "    else:\n",
        "        return f\"{valor:.2f}\""
      ],
      "metadata": {
        "id": "EMC4GVsh1L4a"
      },
      "execution_count": 14,
      "outputs": []
    },
    {
      "cell_type": "markdown",
      "source": [
        "## Conversor"
      ],
      "metadata": {
        "id": "qjPxxx-jiR7a"
      }
    },
    {
      "cell_type": "code",
      "source": [
        "# Aplicar a função para cada linha no DataFrame\n",
        "df['Gasto_Ajustado_Dolar_2024'] = df.apply(converter_para_dolar_corrente, axis=1)\n",
        "\n",
        "# Aplicar a formatação para as colunas 'Gasto_Local' e 'Gasto_Ajustado_Dolar 2024'\n",
        "df['Gasto Local'] = df['Gasto_Local'].apply(formatar_valor)\n",
        "df['Gasto Ajustado US$ 2024'] = df['Gasto_Ajustado_Dolar_2024'].apply(formatar_valor)\n",
        "\n",
        "# Resultado final\n",
        "print(df[['País', 'Programa', 'Ano', 'Gasto Local', 'Gasto Ajustado US$ 2024', 'Descrição']].to_string(index=False))"
      ],
      "metadata": {
        "colab": {
          "base_uri": "https://localhost:8080/"
        },
        "outputId": "9f4e44a2-b53b-4753-c2ab-bdf6770233ed",
        "id": "CzsEAjIt3EhP"
      },
      "execution_count": 20,
      "outputs": [
        {
          "output_type": "stream",
          "name": "stderr",
          "text": [
            "<ipython-input-13-20e5deb6d5d2>:31: DeprecationWarning: Conversion of an array with ndim > 0 to a scalar is deprecated, and will error in future. Ensure you extract a single element from your array before performing this operation. (Deprecated NumPy 1.25.)\n",
            "  return float(gasto_ajustado)\n"
          ]
        },
        {
          "output_type": "stream",
          "name": "stdout",
          "text": [
            "País                                                                   Programa  Ano    Gasto Local Gasto Ajustado US$ 2024                                                                                   Descrição\n",
            "  US                                                        EOs 14017 and 14001 2021   4.46 bilhões            5.15 bilhões                                                                               Valores gasto\n",
            "  US                                                        EOs 14017 and 14001 2021   2.65 bilhões            3.06 bilhões                                                                    Investimentos planejados\n",
            "  US                                                                     ARPA-H 2021   6.50 bilhões            7.50 bilhões                                                                                   2022-2024\n",
            "  US                                                                    ARP A-H 2023   2.50 bilhões            2.57 bilhões                                                                                   2024-2025\n",
            "  US Executive Order on Advancing Biotechnology and Biomanufacturing Innovation 2022   2.10 bilhões            2.25 bilhões Objective to improve and expand domestic biomanufacturing production capacity and processes\n",
            "  KR                                                             Orçamento 2024 2023 780.10 bilhões            1.00 bilhões                                                                               Feito em 2023\n",
            "  KR                                                              Korean ARPA-H 2023  49.50 bilhões           63.48 milhões                                                                                     Alocado\n",
            "  KR                                                              Korean ARPA-H 2023  1.88 trilhões            2.41 bilhões                                                                             Entre 2024-2033\n",
            "  KR                                                               Boston-Korea 2023  60.40 bilhões           77.46 milhões                                                                               Sem descrição\n",
            "  KR                           First National Strategic Technology Nurture Plan 2023  2.10 trilhões            2.69 bilhões                                                                              De 2023 a 2028\n",
            "  GB                        Medicines Manufacturing Industry Partnership (MMIP) 2023   1.10 bilhões            1.69 bilhões                                                            Follow the Green, High-Tech Road\n",
            "  GB                        Life Sciences Innovative Manufacturing Fund (LSIMF) 2023  17.00 milhões           26.14 milhões                                                                               Primeira fase\n",
            "  GB                        Life Sciences Innovative Manufacturing Fund (LSIMF) 2024   7.60 milhões            5.89 milhões                                                                         Segunda fase (2024)\n",
            "  GB                                      The Life Sciences Industrial Strategy 2017   5.00 bilhões            9.32 bilhões                                                                                           -\n",
            "  GB                                      The Life Sciences Industrial Strategy 2017  80.00 bilhões          149.10 bilhões                                                                      Over the next 10 years\n",
            "  GB                                      The Life Sciences Industrial Strategy 2019   4.00 bilhões            7.20 bilhões                                    Atingir esse nível de gasto governamental em P&D em 2027\n",
            "  US                                      The Life Sciences Industrial Strategy 2017   3.00 bilhões            3.83 bilhões                                                          Gasto governamental em P&D em 2017\n",
            "  GB                                      The Life Sciences Industrial Strategy 2019 948.10 bilhões           1.71 trilhões                                                                                           -\n",
            "  GB                                                     UK Innovation Strategy 2021 560.00 milhões          955.23 milhões                                                                                           -\n",
            "  GB                                         Life Sciences 2030 Skills Strategy 2022 650.00 milhões            1.02 bilhões                                                                                           -\n",
            "  GB                                         Life Sciences 2030 Skills Strategy 2022 520.00 milhões          815.81 milhões                                                                             Entre 2025-2030\n"
          ]
        }
      ]
    },
    {
      "cell_type": "code",
      "source": [],
      "metadata": {
        "id": "Lriv8coK210n"
      },
      "execution_count": 9,
      "outputs": []
    }
  ]
}